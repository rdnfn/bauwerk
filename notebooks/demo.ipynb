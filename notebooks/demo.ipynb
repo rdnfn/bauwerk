{
 "cells": [
  {
   "cell_type": "code",
   "execution_count": null,
   "metadata": {},
   "outputs": [],
   "source": [
    "%matplotlib widget\n",
    "\n",
    "import bauwerk.widget.core  \n",
    "\n",
    "widget = bauwerk.widget.core.Game(\n",
    "    step_time=0.01,\n",
    "    log_level=\"error\",\n",
    "    episode_len=48*5,\n",
    ")\n",
    "widget "
   ]
  }
 ],
 "metadata": {
  "language_info": {
   "name": "python"
  },
  "orig_nbformat": 4
 },
 "nbformat": 4,
 "nbformat_minor": 2
}
