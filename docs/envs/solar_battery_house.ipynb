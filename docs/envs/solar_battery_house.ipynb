{
 "cells": [
  {
   "cell_type": "markdown",
   "metadata": {},
   "source": [
    "# SolarBatteryHouse\n",
    "\n",
    "This is the main environment provided by Bauwerk. The environment consists of a single home with the following electrical components:\n",
    "\n",
    "- **Battery**: *can be controlled* by setting battery (dis)charging rate.\n",
    "- **Solar photovoltaic installation**: provides energy when the sun allows for it but can't be directly controlled.\n",
    "- **Residential electrical load**: represents energy usage that needs to be covered but can't be controlled.\n",
    "- **Grid connection**: allows to buy or sell energy to the grid, can't be controlled directly. All energy needs of the system must be satisfied and energy will be bought automatically accordingly. Similarly, excess energy is automatically sold.\n",
    "\n",
    "The diagram below illustrates the setup of the environment.\n",
    "\n",
    "<img src=\"https://github.com/rdnfn/bauwerk/raw/bc85779963d6351ca31d7b705669933b699b7551/docs/assets/bauwerk_solarbatteryenv_diagram.png\" width=\"600px\"/>\n",
    "\n",
    "## Creating environment\n",
    "\n",
    "The code snippet below shows how to create an `SolarBatteryHouse` environment"
   ]
  },
  {
   "cell_type": "code",
   "execution_count": null,
   "metadata": {},
   "outputs": [],
   "source": [
    "import bauwerk\n",
    "import gym\n",
    "\n",
    "env = gym.make(\"bauwerk/SolarBatteryHouse-v0\")"
   ]
  },
  {
   "cell_type": "markdown",
   "metadata": {},
   "source": [
    "## Action and Observation Spaces\n",
    "\n",
    "The action space simply consists of a single float number between $-1.0$ and $1.0$, representing how much the battery should be charged (if $>0$) or discharged (if $<0$). The boundaries $-1.0$ and $1.0$ represent (approximately) the maximum amount the battery can be discharged/charged in a single time step. Note that (dis-)charging by these maximum amounts may often not be possible. In this case, the closest action will be taken. For example, if the battery is almost full, action $1.0$ may actually result in charging as if action $0.1$ was given. \n",
    "\n",
    "The action space can inspected as shown below."
   ]
  },
  {
   "cell_type": "code",
   "execution_count": null,
   "metadata": {},
   "outputs": [],
   "source": [
    "env.action_space"
   ]
  },
  {
   "cell_type": "markdown",
   "metadata": {},
   "source": [
    "The observation space consists of a dictionary with the latest battery content (`battery_cont`), load (`load`), photovoltaic generation (`pv_gen`) and the current time of day (`time_of_day`)."
   ]
  },
  {
   "cell_type": "code",
   "execution_count": null,
   "metadata": {},
   "outputs": [],
   "source": [
    "dict(env.observation_space.items())"
   ]
  },
  {
   "cell_type": "markdown",
   "metadata": {},
   "source": [
    "## Further environments parameters\n",
    "\n",
    "All environment configuration parameters of the `SolarBatteryHouse` environment are stored in the following attribute:"
   ]
  },
  {
   "cell_type": "code",
   "execution_count": null,
   "metadata": {},
   "outputs": [],
   "source": [
    "env.cfg"
   ]
  },
  {
   "cell_type": "markdown",
   "metadata": {},
   "source": [
    "## Optimal control\n",
    "\n",
    "Bauwerk supports the computation of the optimal control of `SolarBatteyHouse` environments. The following snippet computes all the optimal actions for the current episode of the environment `env`.\n",
    "\n",
    "> Note: computing optimal control as below requires the `cvxpy` package. This can be installed by running `pip install bauwerk[cvxpy]`."
   ]
  },
  {
   "cell_type": "code",
   "execution_count": null,
   "metadata": {},
   "outputs": [],
   "source": [
    "optimal_actions, cvxpy_problem = bauwerk.solve(env)\n",
    "optimal_actions"
   ]
  },
  {
   "cell_type": "code",
   "execution_count": null,
   "metadata": {},
   "outputs": [],
   "source": []
  }
 ],
 "metadata": {
  "kernelspec": {
   "display_name": "Python 3.9.12 ('base')",
   "language": "python",
   "name": "python3"
  },
  "language_info": {
   "codemirror_mode": {
    "name": "ipython",
    "version": 3
   },
   "file_extension": ".py",
   "mimetype": "text/x-python",
   "name": "python",
   "nbconvert_exporter": "python",
   "pygments_lexer": "ipython3",
   "version": "3.9.12"
  },
  "orig_nbformat": 4,
  "vscode": {
   "interpreter": {
    "hash": "d4d1e4263499bec80672ea0156c357c1ee493ec2b1c70f0acce89fc37c4a6abe"
   }
  }
 },
 "nbformat": 4,
 "nbformat_minor": 2
}
