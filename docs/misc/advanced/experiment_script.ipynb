{
 "cells": [
  {
   "cell_type": "markdown",
   "metadata": {},
   "source": [
    "# Experiment script\n",
    "\n",
    "Bauwerk provides an experiment script that allows us to evaluate SB3-based agents on Bauwerk distributions. This script can be used as a starting point for your experiments. There are two ways of using this script: either running `bauwerk-exp` or `python -m bauwerk/exp/core.py` (latter is only available in cloned Bauwerk repo).\n",
    "\n",
    "So for example we can run:"
   ]
  },
  {
   "cell_type": "code",
   "execution_count": null,
   "metadata": {},
   "outputs": [],
   "source": [
    "! bauwerk-exp sb3_alg=SAC train_steps_per_task=16000 env_cfg.battery_size=10"
   ]
  },
  {
   "cell_type": "markdown",
   "metadata": {},
   "source": [
    "We can also easily run multiple different experiments using Hydra's multirun feature. For example using `bauwerk-exp -m env_cfg.battery_size=7.5,10,15` will run three experiments with the different battery sizes."
   ]
  },
  {
   "cell_type": "markdown",
   "metadata": {},
   "source": [
    "## Plotting in Wandb interface\n",
    "\n",
    "Note that the number of steps taken in the environment is recorded by SB3 under the `global_steps` name, thus it may be useful to change the x-axis of plots to this variable.\n",
    "\n",
    "\n",
    "> *More details coming soon*\n",
    "\n"
   ]
  },
  {
   "cell_type": "markdown",
   "metadata": {},
   "source": []
  }
 ],
 "metadata": {
  "kernelspec": {
   "display_name": "Python 3.9.12 ('base')",
   "language": "python",
   "name": "python3"
  },
  "language_info": {
   "codemirror_mode": {
    "name": "ipython",
    "version": 3
   },
   "file_extension": ".py",
   "mimetype": "text/x-python",
   "name": "python",
   "nbconvert_exporter": "python",
   "pygments_lexer": "ipython3",
   "version": "3.9.12"
  },
  "orig_nbformat": 4,
  "vscode": {
   "interpreter": {
    "hash": "d4d1e4263499bec80672ea0156c357c1ee493ec2b1c70f0acce89fc37c4a6abe"
   }
  }
 },
 "nbformat": 4,
 "nbformat_minor": 2
}
