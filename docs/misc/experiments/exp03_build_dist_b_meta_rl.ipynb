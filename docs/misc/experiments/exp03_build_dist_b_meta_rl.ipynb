{
 "cells": [
  {
   "cell_type": "markdown",
   "metadata": {},
   "source": [
    "# Experimental Results 3: Meta RL applied to Building Distribution B\n",
    "\n",
    "In this part of the Bauwerk experiments, we make use of more than a single training task to train our model."
   ]
  },
  {
   "cell_type": "code",
   "execution_count": 42,
   "metadata": {},
   "outputs": [
    {
     "name": "stdout",
     "output_type": "stream",
     "text": [
      "Sampled 20 training and 10 test tasks from building distribution B.\n"
     ]
    }
   ],
   "source": [
    "# Setup and helper code\n",
    "import bauwerk\n",
    "import bauwerk.evaluation\n",
    "import bauwerk.benchmarks\n",
    "import gym\n",
    "import numpy as np\n",
    "\n",
    "# The length of each task, i.e. how long we aim to \n",
    "TASK_LEN = 24*30 # evaluate on 1 month of actions\n",
    "\n",
    "# Create SolarBatteryHouse environment\n",
    "build_dist_b = bauwerk.benchmarks.BuildDistB(seed=0, task_ep_len=TASK_LEN)\n",
    "print(f\"Sampled {len(build_dist_b.train_tasks)} training and\"\n",
    "    f\" {len(build_dist_b.test_tasks)} test tasks from building distribution B.\")"
   ]
  },
  {
   "cell_type": "code",
   "execution_count": 43,
   "metadata": {},
   "outputs": [
    {
     "name": "stdout",
     "output_type": "stream",
     "text": [
      "0th env: training on task with battery size 11.2019.\n"
     ]
    }
   ],
   "source": [
    "import bauwerk.utils.sb3\n",
    "from stable_baselines3 import SAC\n",
    "\n",
    "NUM_TRAIN_STEP_PER_TASK = 24 * 7 * 18\n",
    "\n",
    "train_env = build_dist_b.make_env()\n",
    "\n",
    "model_sac = SAC(\n",
    "    policy=\"MultiInputPolicy\",\n",
    "    env=train_env, \n",
    "    verbose=0,\n",
    ")\n",
    "\n",
    "eval_env = build_dist_b.make_env()\n",
    "eval_env.set_task(build_dist_b.test_tasks[0])\n",
    "eval_callback = bauwerk.utils.sb3.EvalCallback(\n",
    "    eval_env=eval_env, \n",
    "    eval_len=TASK_LEN, \n",
    "    eval_freq=24 * 7\n",
    ")\n",
    "\n",
    "# train on each task for NUM_TRAIN_STEP_PER_TASK steps\n",
    "for i, task in enumerate(build_dist_b.train_tasks[:10]):\n",
    "    train_env.set_task(task)\n",
    "    print(f\"{i}th env: training on task with battery size {train_env.battery.size:.04f}.\")\n",
    "    model_sac.learn(total_timesteps=NUM_TRAIN_STEP_PER_TASK,callback=[eval_callback])"
   ]
  },
  {
   "cell_type": "code",
   "execution_count": null,
   "metadata": {},
   "outputs": [],
   "source": [
    "import matplotlib.pyplot as plt\n",
    "\n",
    "NUM_TRAIN_STEP = len(eval_callback.data) * eval_callback.eval_freq\n",
    "\n",
    "x = np.arange(0,len(eval_callback.data)*eval_callback.eval_freq,eval_callback.eval_freq)\n",
    "plt.title(f\"Evaluation env (size {eval_env.battery.size:.01f} kWh)\")\n",
    "plt.plot(\n",
    "    x, eval_callback.data, label=\"Performance\"\n",
    ")\n",
    "perf_eval_rand, _ = bauwerk.evaluation.get_avg_rndm_perf(\n",
    "        eval_env, \n",
    "        eval_len=TASK_LEN,\n",
    "        num_samples=10,\n",
    "    )\n",
    "perf_eval_opt = bauwerk.evaluation.get_optimal_perf(\n",
    "    eval_env, \n",
    "    eval_len=TASK_LEN\n",
    ")\n",
    "perf_nocharge = bauwerk.evaluation.evaluate_actions(np.zeros((TASK_LEN,1)), eval_env)\n",
    "plt.hlines(perf_eval_opt, 0, NUM_TRAIN_STEP, label=\"Optimal\", linestyle=\":\", color=\"black\")\n",
    "plt.hlines(perf_eval_rand, 0, NUM_TRAIN_STEP, label=\"Random\", linestyle=\"--\", color=\"grey\")\n",
    "plt.hlines(perf_nocharge, 0, NUM_TRAIN_STEP, label=\"No charging\", linestyle=\"-.\", color=\"lightblue\")\n",
    "plt.legend()\n",
    "plt.ylabel(f\"avg grid payment (per timestep)\")\n",
    "plt.xlabel(f\"timesteps (each {train_env.cfg.time_step_len}h)\")\n",
    "plt.tight_layout()"
   ]
  },
  {
   "cell_type": "code",
   "execution_count": null,
   "metadata": {},
   "outputs": [],
   "source": [
    "# evaluating performance of agent across different battery sizes\n",
    "\n",
    "dist_env = build_dist_b.make_env()\n",
    "\n",
    "battery_sizes = np.arange(1,21,1)\n",
    "perf_per_task = []\n",
    "opt_perf_per_task = []\n",
    "for size in battery_sizes:\n",
    "    task = bauwerk.benchmarks.Task(\n",
    "        cfg=bauwerk.envs.solar_battery_house.EnvConfig(\n",
    "            battery_size=size, \n",
    "            episode_len=TASK_LEN\n",
    "        )\n",
    "    )\n",
    "    dist_env.set_task(task)\n",
    "    perf_sac = bauwerk.utils.sb3.eval_model(model_sac, dist_env, eval_len=TASK_LEN)\n",
    "    perf_opt = bauwerk.evaluation.get_optimal_perf(dist_env, eval_len=TASK_LEN)\n",
    "    perf_per_task.append(perf_sac)\n",
    "    opt_perf_per_task.append(perf_opt)"
   ]
  },
  {
   "cell_type": "code",
   "execution_count": null,
   "metadata": {},
   "outputs": [],
   "source": [
    "plt.plot(battery_sizes, perf_per_task, label=\"Model performance\")\n",
    "plt.plot(battery_sizes, opt_perf_per_task, label=\"Optimal performance\")\n",
    "plt.xlabel(\"Battery size (kWh)\")\n",
    "plt.ylabel(f\"Avg grid payment (per timestep)\")\n",
    "plt.hlines(perf_nocharge, 1, len(battery_sizes), label=\"No charging\", linestyle=\"-.\", color=\"lightblue\")\n",
    "plt.legend()"
   ]
  },
  {
   "cell_type": "code",
   "execution_count": null,
   "metadata": {},
   "outputs": [],
   "source": []
  }
 ],
 "metadata": {
  "kernelspec": {
   "display_name": "Python 3.9.12 ('base')",
   "language": "python",
   "name": "python3"
  },
  "language_info": {
   "codemirror_mode": {
    "name": "ipython",
    "version": 3
   },
   "file_extension": ".py",
   "mimetype": "text/x-python",
   "name": "python",
   "nbconvert_exporter": "python",
   "pygments_lexer": "ipython3",
   "version": "3.9.12"
  },
  "orig_nbformat": 4,
  "vscode": {
   "interpreter": {
    "hash": "d4d1e4263499bec80672ea0156c357c1ee493ec2b1c70f0acce89fc37c4a6abe"
   }
  }
 },
 "nbformat": 4,
 "nbformat_minor": 2
}
