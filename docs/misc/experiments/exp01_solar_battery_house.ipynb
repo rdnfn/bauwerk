{
 "cells": [
  {
   "cell_type": "markdown",
   "metadata": {},
   "source": [
    "# Experimental Results 1: SolarBatteryHouse\n",
    "\n",
    "Here we run some experiments on the default version of the main Bauwerk environment, `SolarBatteryHouse`. For a full description of the environment, [see here](../../envs/solar_battery_house.ipynb). For work using this environment, we recommend rerunning these experiments as baselines.\n",
    "\n",
    "<div class=\"alert alert-info\">\n",
    "\n",
    "Note\n",
    "\n",
    "In this notebook Gym v0.21 is used, because this version is required for Stable Baselines3 (SB3), an RL algorithm library used here. Thus, the environment API is different compared to other pages in the Bauwerk docs.\n",
    "\n",
    "</div>"
   ]
  },
  {
   "cell_type": "markdown",
   "metadata": {},
   "source": [
    "## Evaluation\n",
    "\n",
    "There is no one way that performance on the `SolarBatteryHouse` can or should be measured. One obvious choice would be to directly compare the cumulative reward, i.e. overall grid energy payments. However, the magnitude of this value completely depends on the configuration of the environment. Thus, this can make it difficult to compare performance between environments, even within Bauwerk. Instead, we propose using the access to the optimal control actions by considering *performance relative to random and optimal control*,\n",
    "\n",
    "$p' = \\frac{p_m-p_r}{p_o-p_r}$,\n",
    "\n",
    "where $p_m$ is the average reward of the method to be evaluated, $p_r$ and $p_o$ the average rewards of random and optimal control respectively. \n",
    "\n",
    "<div class=\"alert alert-info\">\n",
    "\n",
    "Note\n",
    "\n",
    "With the performance measure $p'$, a value $>0$ means that the method is better than random, a value close to $1$ means that the method is close to optimal, a value $<0$ means that the method is worse than random, i.e. completely useless.\n",
    "\n",
    "</div>\n",
    "\n"
   ]
  },
  {
   "cell_type": "markdown",
   "metadata": {},
   "source": [
    "## Baselines\n",
    "\n",
    "### Random actions\n",
    "\n",
    "Let's get started by establishing the lowest bar: what's the performance we get, when we just take random actions in the environment (sampled from the action space). To do this, we first need to determine how many actions in the environment we want to evaluate over (`EVAL_LEN`) and setup some helper code."
   ]
  },
  {
   "cell_type": "code",
   "execution_count": 1,
   "metadata": {},
   "outputs": [
    {
     "name": "stderr",
     "output_type": "stream",
     "text": [
      "/opt/conda/lib/python3.9/site-packages/scipy/__init__.py:146: UserWarning: A NumPy version >=1.16.5 and <1.23.0 is required for this version of SciPy (detected version 1.23.3\n",
      "  warnings.warn(f\"A NumPy version >={np_minversion} and <{np_maxversion}\"\n"
     ]
    }
   ],
   "source": [
    "# Setup and helper code\n",
    "import bauwerk\n",
    "import gym\n",
    "import numpy as np\n",
    "\n",
    "EVAL_LEN = 24*30 # evaluate on 1 month of actions\n",
    "\n",
    "# Create SolarBatteryHouse environment\n",
    "env = gym.make(\"bauwerk/SolarBatteryHouse-v0\")\n",
    "\n",
    "def evaluate_actions(actions, env):\n",
    "    cum_reward = 0\n",
    "    obs = env.reset()\n",
    "    for action in actions:\n",
    "        obs, reward, done, info = env.step(np.array(action, dtype=np.float32))\n",
    "        cum_reward += reward\n",
    "    \n",
    "    return cum_reward / len(actions)"
   ]
  },
  {
   "cell_type": "code",
   "execution_count": 2,
   "metadata": {},
   "outputs": [
    {
     "name": "stdout",
     "output_type": "stream",
     "text": [
      "Avg reward with random actions: -0.5495 (standard deviation: 0.0265)\n"
     ]
    }
   ],
   "source": [
    "# mean random performance over 100 trials\n",
    "random_trials = [evaluate_actions([env.action_space.sample() for _ in range(EVAL_LEN)], env) for _ in range(100)]\n",
    "random_std = np.std(random_trials)\n",
    "p_rand = np.mean(random_trials)\n",
    "# note: std here is between different trials (of multiple actions)\n",
    "print(f\"Avg reward with random actions: {p_rand:.4f} (standard deviation: {random_std:.4f})\")"
   ]
  },
  {
   "cell_type": "markdown",
   "metadata": {},
   "source": [
    "### Optimal actions\n",
    "\n",
    "`SolarBatteryHouse` is a fully tractable environment. Thus, Bauwerk can easily compute the theoretically optimal actions one can take in the environment."
   ]
  },
  {
   "cell_type": "code",
   "execution_count": 3,
   "metadata": {},
   "outputs": [
    {
     "name": "stdout",
     "output_type": "stream",
     "text": [
      "Avg reward (per step) with optimal actions: -0.1036\n"
     ]
    }
   ],
   "source": [
    "optimal_actions, _ = bauwerk.solve(env)\n",
    "p_opt = evaluate_actions(optimal_actions.reshape((-1,1))[:EVAL_LEN], env)\n",
    "print(f\"Avg reward (per step) with optimal actions: {p_opt:.4f}\")"
   ]
  },
  {
   "cell_type": "markdown",
   "metadata": {},
   "source": [
    "### No actions\n",
    "\n",
    "We also compare our methods to \"not\" taking actions in the environment, i.e. not charging the battery at all."
   ]
  },
  {
   "cell_type": "code",
   "execution_count": 4,
   "metadata": {},
   "outputs": [
    {
     "name": "stdout",
     "output_type": "stream",
     "text": [
      "Avg reward (per step) with no actions (no charging): -0.1586\n"
     ]
    }
   ],
   "source": [
    "import numpy as np\n",
    "\n",
    "p_nocharge = evaluate_actions(np.zeros((EVAL_LEN,1)), env)\n",
    "print(f\"Avg reward (per step) with no actions (no charging): {p_nocharge:.4f}\")"
   ]
  },
  {
   "cell_type": "markdown",
   "metadata": {},
   "source": [
    "## RL agents\n",
    "\n",
    "Next we consider simple reinforcement learning (RL) agents. We use [Stable Baselines3 (SB3)](https://github.com/DLR-RM/stable-baselines3) to access RL algorithm implementations. \n",
    "\n",
    "\n",
    "### PPO\n",
    "\n",
    "To begin, we look at the popular *Proximal Policy Optimisation* (PPO) algorithm."
   ]
  },
  {
   "cell_type": "code",
   "execution_count": 5,
   "metadata": {},
   "outputs": [],
   "source": [
    "from stable_baselines3 import PPO\n",
    "\n",
    "NUM_TRAIN_STEP = 24 * 365 * 2\n",
    "\n",
    "model_ppo = PPO(\n",
    "    policy=\"MultiInputPolicy\",\n",
    "    env=\"bauwerk/SolarBatteryHouse-v0\", \n",
    "    verbose=0,\n",
    ")"
   ]
  },
  {
   "cell_type": "code",
   "execution_count": 6,
   "metadata": {},
   "outputs": [],
   "source": [
    "# Helper functions for evaluating methods\n",
    "\n",
    "from stable_baselines3.common.callbacks import BaseCallback\n",
    "\n",
    "def eval_model(model, env):\n",
    "    # Obtaining model actions and evaluating them\n",
    "    model_actions = []\n",
    "    obs = env.reset()\n",
    "    for i in range(EVAL_LEN):\n",
    "        action, _states = model.predict(obs)\n",
    "        model_actions.append(action)\n",
    "        obs, _, _, _ = env.step(action)\n",
    "\n",
    "    p_model = evaluate_actions(model_actions[:EVAL_LEN], env)\n",
    "    return p_model\n",
    "\n",
    "# callback for evaluating callback during training\n",
    "class EvalCallback(BaseCallback):\n",
    "    def __init__(self, eval_freq = 24*7, verbose=0):\n",
    "        super().__init__(verbose)\n",
    "        self.data = []\n",
    "        self.eval_freq = eval_freq\n",
    "        self.eval_env = gym.make(\"bauwerk/SolarBatteryHouse-v0\")\n",
    "\n",
    "    def _on_training_start(self) -> None:\n",
    "        \"\"\"\n",
    "        This method is called before the first rollout starts.\n",
    "        \"\"\"\n",
    "        self.data.append(eval_model(self.model, self.eval_env))\n",
    "\n",
    "    def _on_step(self) -> bool:\n",
    "        if self.num_timesteps % self.eval_freq == 0:\n",
    "            self.data.append(eval_model(self.model, self.eval_env))\n",
    "\n",
    "        return True    "
   ]
  },
  {
   "cell_type": "code",
   "execution_count": 7,
   "metadata": {},
   "outputs": [
    {
     "data": {
      "text/plain": [
       "<stable_baselines3.ppo.ppo.PPO at 0xffff89c97670>"
      ]
     },
     "execution_count": 7,
     "metadata": {},
     "output_type": "execute_result"
    }
   ],
   "source": [
    "ppo_callback = EvalCallback()\n",
    "model_ppo.learn(total_timesteps=NUM_TRAIN_STEP,callback=ppo_callback)"
   ]
  },
  {
   "cell_type": "code",
   "execution_count": 8,
   "metadata": {},
   "outputs": [
    {
     "name": "stdout",
     "output_type": "stream",
     "text": [
      "Avg reward (per step) with model actions: -0.1968\n"
     ]
    }
   ],
   "source": [
    "p_model_ppo = eval_model(model_ppo, env)\n",
    "print(f\"Avg reward (per step) with model actions: {p_model_ppo:.4f}\")"
   ]
  },
  {
   "cell_type": "code",
   "execution_count": 9,
   "metadata": {},
   "outputs": [
    {
     "name": "stdout",
     "output_type": "stream",
     "text": [
      "Performance relative to random and optimal: 0.7909\n"
     ]
    }
   ],
   "source": [
    "# Measuring performance relative to random and optimal\n",
    "def compute_rel_perf(p_model):\n",
    "    return (p_model - p_rand)/(p_opt - p_rand)\n",
    "p_rel_ppo = compute_rel_perf(p_model_ppo)\n",
    "print(f\"Performance relative to random and optimal: {p_rel_ppo:.4f}\")"
   ]
  },
  {
   "cell_type": "markdown",
   "metadata": {},
   "source": [
    "We see that the PPO agent we just trained is definitely outperforming random actions.\n",
    "\n",
    "### SAC\n",
    "\n",
    "How about another popular RL algorithm - *Soft Actor-Critic* (SAC)."
   ]
  },
  {
   "cell_type": "code",
   "execution_count": 10,
   "metadata": {},
   "outputs": [
    {
     "name": "stdout",
     "output_type": "stream",
     "text": [
      "Avg reward (per step) with model actions: -0.1089\n",
      "Performance relative to random and optimal: 0.9880\n"
     ]
    }
   ],
   "source": [
    "from stable_baselines3 import SAC\n",
    "\n",
    "model_sac = SAC(\n",
    "    policy=\"MultiInputPolicy\",\n",
    "    env=\"bauwerk/SolarBatteryHouse-v0\", \n",
    "    verbose=0,\n",
    ")\n",
    "sac_callback = EvalCallback()\n",
    "model_sac.learn(total_timesteps=NUM_TRAIN_STEP,callback=sac_callback)\n",
    "\n",
    "p_model_sac = eval_model(model_sac, env)\n",
    "\n",
    "print(f\"Avg reward (per step) with model actions: {p_model_sac:.4f}\")\n",
    "\n",
    "p_rel_sac = compute_rel_perf(p_model_sac)\n",
    "print(f\"Performance relative to random and optimal: {p_rel_sac:.4f}\")"
   ]
  },
  {
   "cell_type": "markdown",
   "metadata": {},
   "source": [
    "Given the same amount of training time on the environment (1 year), SAC notably outperforms PPO."
   ]
  },
  {
   "cell_type": "markdown",
   "metadata": {},
   "source": [
    "## Results plot\n",
    "\n",
    "Next we plot the combined results of the baselines, random and optimal actions, and our RL agents, PPO and SAC."
   ]
  },
  {
   "cell_type": "code",
   "execution_count": 11,
   "metadata": {},
   "outputs": [
    {
     "data": {
      "text/plain": [
       "Text(0.5, 0, 'timesteps (each 1.0h)')"
      ]
     },
     "execution_count": 11,
     "metadata": {},
     "output_type": "execute_result"
    },
    {
     "data": {
      "image/png": "[encoded data removed]",
      "text/plain": [
       "<Figure size 432x288 with 1 Axes>"
      ]
     },
     "metadata": {
      "needs_background": "light"
     },
     "output_type": "display_data"
    }
   ],
   "source": [
    "import matplotlib.pyplot as plt\n",
    "\n",
    "x = np.arange(0,NUM_TRAIN_STEP,ppo_callback.eval_freq)\n",
    "plt.plot(\n",
    "    x, ppo_callback.data[:NUM_TRAIN_STEP//ppo_callback.eval_freq + 1], label=\"PPO\"\n",
    ")\n",
    "plt.plot(\n",
    "    x, sac_callback.data[:NUM_TRAIN_STEP//ppo_callback.eval_freq + 1], label=\"SAC\"\n",
    ")\n",
    "plt.hlines(p_opt, 0, NUM_TRAIN_STEP, label=\"Optimal\", linestyle=\":\", color=\"black\")\n",
    "plt.hlines(p_rand, 0, NUM_TRAIN_STEP, label=\"Random\", linestyle=\"--\", color=\"grey\")\n",
    "plt.hlines(p_nocharge, 0, NUM_TRAIN_STEP, label=\"No charging\", linestyle=\"-.\", color=\"lightblue\")\n",
    "plt.legend()\n",
    "plt.ylabel(f\"avg grid payment (per timestep)\")\n",
    "plt.xlabel(f\"timesteps (each {env.cfg.time_step_len}h)\")"
   ]
  },
  {
   "cell_type": "markdown",
   "metadata": {},
   "source": [
    "> Note for reproducibility: this entire notebook was executed inside the devcontainer of the Bauwerk repository."
   ]
  }
 ],
 "metadata": {
  "kernelspec": {
   "display_name": "Python 3.9.12 ('base')",
   "language": "python",
   "name": "python3"
  },
  "language_info": {
   "codemirror_mode": {
    "name": "ipython",
    "version": 3
   },
   "file_extension": ".py",
   "mimetype": "text/x-python",
   "name": "python",
   "nbconvert_exporter": "python",
   "pygments_lexer": "ipython3",
   "version": "3.9.12"
  },
  "orig_nbformat": 4,
  "vscode": {
   "interpreter": {
    "hash": "d4d1e4263499bec80672ea0156c357c1ee493ec2b1c70f0acce89fc37c4a6abe"
   }
  }
 },
 "nbformat": 4,
 "nbformat_minor": 2
}
