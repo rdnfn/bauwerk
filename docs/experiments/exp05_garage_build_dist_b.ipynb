{
    "cells": [
        {
            "attachments": {},
            "cell_type": "markdown",
            "metadata": {},
            "source": [
                "# Experimental results 5: meta RL experiments with Garage on B\n",
                "\n",
                "We use the [garage library](https://github.com/rlworkgroup/garage) to evaluate some of the popular meta RL algorithms on our problems. In particular, we test *MAML-TPRO*, *RL*$^2$ and *PEARL*.\n",
                "\n",
                "\n",
                "## Installation\n",
                "\n",
                "Start by installing the garage package [as advised on their docs](https://garage.readthedocs.io/en/latest/user/installation.html). Note that as garage is not longer very actively maintained, installing it can be a bit tricky. Here are some tips for debugging:\n",
                "\n",
                "1. Use Python 3.7 -> anything above has thrown errors for us about packages not resolving.\n",
                "2. Really ensure that mujoco is installed correctly (and on the correct path, although this is needed only for testing installation).\n",
                "3. You may need to install patchelf [as described here](https://github.com/openai/mujoco-py/issues/652>).\n",
                "\n",
                "\n",
                "## Garage experiments\n",
                "\n",
                "Next, we run the actual experiments using the experiment scripts provided in `bauwerk/baselines`. Assuming this notebook is run out of its directory in the repo, you can run the experiment using:"
            ]
        },
        {
            "cell_type": "code",
            "execution_count": null,
            "metadata": {
                "vscode": {
                    "languageId": "shellscript"
                }
            },
            "outputs": [],
            "source": [
                "! python ../../baselines/maml.py --epochs=1"
            ]
        },
        {
            "cell_type": "code",
            "execution_count": null,
            "metadata": {
                "vscode": {
                    "languageId": "shellscript"
                }
            },
            "outputs": [],
            "source": [
                "! python ../../baselines/pearl.py --num_epochs=10"
            ]
        },
        {
            "cell_type": "code",
            "execution_count": null,
            "metadata": {
                "vscode": {
                    "languageId": "shellscript"
                }
            },
            "outputs": [],
            "source": [
                "! python ../../baselines/rl2_ppo_tf.py --n_epochs=2"
            ]
        },
        {
            "attachments": {},
            "cell_type": "markdown",
            "metadata": {},
            "source": [
                "## Plotting\n",
                "\n",
                "Given the completion of all the above experiments, we can now move on to plot the results."
            ]
        },
        {
            "cell_type": "code",
            "execution_count": null,
            "metadata": {},
            "outputs": [],
            "source": [
                "import matplotlib.pyplot as plt\n",
                "\n",
                "# Setup and helper code\n",
                "import bauwerk\n",
                "import bauwerk.eval\n",
                "import bauwerk.benchmarks\n",
                "from bauwerk.utils.garage import DEFAULT_EPISODE_LEN\n",
                "import gym\n",
                "import numpy as np\n",
                "\n",
                "# The length of each task\n",
                "TASK_LEN = DEFAULT_EPISODE_LEN"
            ]
        },
        {
            "cell_type": "code",
            "execution_count": null,
            "metadata": {},
            "outputs": [],
            "source": [
                "# Get log files for all experiments\n",
                "import pathlib\n",
                "from tensorboard.backend.event_processing import event_accumulator\n",
                "\n",
                "exp_dir = pathlib.Path(\"./data/local/experiment/\")\n",
                "\n",
                "def get_first_exp_log(algorithm_name):\n",
                "    folder = [exp_file for exp_file in exp_dir.iterdir() if algorithm_name in str(exp_file)][0]\n",
                "    events_file_name = [exp_file for exp_file in folder.iterdir() if \"events.out\" in str(exp_file)][0]\n",
                "    return str(events_file_name.absolute())\n",
                "\n",
                "algs = [\"maml\",\"rl2_ppo\",\"pearl\"]\n",
                "pretty_alg_names = list(zip(algs, [\"MAML-TRPO\", \"RL$^2$\", \"PEARL\"]))\n",
                "tensorboard_eas = {key: event_accumulator.EventAccumulator(get_first_exp_log(key)) for key in algs}\n",
                "# load all the data\n",
                "tensorboard_eas = {name: ea.Reload() for name, ea in tensorboard_eas.items()}\n",
                "\n"
            ]
        },
        {
            "cell_type": "code",
            "execution_count": null,
            "metadata": {},
            "outputs": [],
            "source": [
                "\n",
                "\n",
                "# Create SolarBatteryHouse environment\n",
                "build_dist_b = bauwerk.benchmarks.BuildDistB(seed=0, episode_len=TASK_LEN)\n",
                "test_env = build_dist_b.make_env()\n",
                "\n",
                "battery_sizes = [1,5,15,20,25]\n",
                "env_data = {}\n",
                "cumulative_data = {}\n",
                "\n",
                "for size in battery_sizes:\n",
                "    env_data[size] = {}\n",
                "    task = bauwerk.benchmarks.Task(\n",
                "        cfg=bauwerk.envs.solar_battery_house.EnvConfig(\n",
                "            battery_size=size, \n",
                "            episode_len=TASK_LEN\n",
                "        )\n",
                "    )\n",
                "    test_env.set_task(task)\n",
                "    env_data[size][\"optimal\"] = bauwerk.eval.get_optimal_perf(test_env, eval_len=TASK_LEN)\n",
                "    env_data[size][\"no charge\"] = bauwerk.eval.evaluate_actions(np.zeros((TASK_LEN,1)), test_env)\n",
                "    env_data[size][\"random\"], _ = bauwerk.eval.get_avg_rndm_perf(\n",
                "        test_env, \n",
                "        eval_len=TASK_LEN,\n",
                "        num_samples=10,\n",
                "    )\n",
                "\n",
                "    #def get_feasible_val(perc):\n",
                "    #    return env_data[size][\"optimal\"] * perc + env_data[size][\"no charge\"] * (1 - perc)\n",
                "\n",
                "    # Add the algorithms performance based on tensorboard data\n",
                "    for alg_name, pretty_name in pretty_alg_names:\n",
                "        env_data[size][pretty_name] = tensorboard_eas[alg_name].Scalars(\n",
                "            f\"MetaTest/bauwerk/House-{size}kWh/AverageReturn\"\n",
                "        )[-1].value / TASK_LEN\n",
                "        print(f\"Adding data from {pretty_name} on size {size}: {env_data[size][pretty_name]}.\")\n",
                "\n",
                "    for key in env_data[size].keys():\n",
                "        if key not in cumulative_data.keys():\n",
                "            cumulative_data[key] = env_data[size][key]\n",
                "        else:\n",
                "            cumulative_data[key] += env_data[size][key]\n",
                "\n",
                "# add average\n",
                "env_data[\"Average\"] = {key: value / len(env_data.keys()) for key, value in cumulative_data.items()}\n",
                "    "
            ]
        },
        {
            "cell_type": "code",
            "execution_count": null,
            "metadata": {},
            "outputs": [],
            "source": [
                "# Create shared plot with different relative performances\n",
                "\n",
                "import bauwerk.utils.exp_plotting\n",
                "\n",
                "fig, axs = plt.subplots(1, 2, figsize=[6.4, 5.5])\n",
                "fig.suptitle(\"Performance on building distribution $B$\")\n",
                "bauwerk.utils.exp_plotting.create_bar_chart(env_data, \"optimal\",\"random\", ax=axs[0])\n",
                "bauwerk.utils.exp_plotting.create_bar_chart(env_data, \"optimal\",\"no charge\", remove_keys=[\"random\"], ax=axs[1], include_legend=False)\n",
                "axs[1].set_ylabel(\"\")\n",
                "axs[1].set_yticks([])\n",
                "fig.tight_layout()\n",
                "fig.savefig(\"combined_build_distb_plot.png\", dpi=300)"
            ]
        },
        {
            "cell_type": "code",
            "execution_count": null,
            "metadata": {},
            "outputs": [],
            "source": [
                "fig, ax = plt.subplots(figsize=(4.5, 6))\n",
                "bauwerk.utils.exp_plotting.create_bar_chart(env_data=env_data,\n",
                "    absolute=True, title=\"Absolute performance on building distribution B\",\n",
                "    x_label=\"Average payment per step (€)\",\n",
                "    ax=ax)\n",
                "fig.tight_layout()\n",
                "fig.savefig(\"exp_barchart_b_absolute.png\", dpi=300)"
            ]
        },
        {
            "cell_type": "code",
            "execution_count": null,
            "metadata": {},
            "outputs": [],
            "source": []
        },
        {
            "cell_type": "code",
            "execution_count": null,
            "metadata": {},
            "outputs": [],
            "source": []
        }
    ],
    "metadata": {
        "kernelspec": {
            "display_name": "bauwerk-py37",
            "language": "python",
            "name": "python3"
        },
        "language_info": {
            "codemirror_mode": {
                "name": "ipython",
                "version": 3
            },
            "file_extension": ".py",
            "mimetype": "text/x-python",
            "name": "python",
            "nbconvert_exporter": "python",
            "pygments_lexer": "ipython3",
            "version": "3.7.16"
        },
        "nbsphinx": {
            "execute": "never"
        },
        "orig_nbformat": 4,
        "vscode": {
            "interpreter": {
                "hash": "950ce0d25fe021c3fd60e44a25d15ee82bf421c3bc94a67bcaa26a27a8ea3120"
            }
        }
    },
    "nbformat": 4,
    "nbformat_minor": 2
}
