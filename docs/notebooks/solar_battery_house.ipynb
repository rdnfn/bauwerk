{
 "cells": [
  {
   "cell_type": "markdown",
   "metadata": {},
   "source": [
    "# SolarBatteryHouse\n",
    "\n",
    "The main environment provided by Bauwerk is the `SolarBatteryHouse` environment. This environment consists of a single home with the following electrical components:\n",
    "\n",
    "- *battery*: **can be controlled** by setting battery (dis)charging rate.\n",
    "- *solar photovoltaic installation*: provides you energy when the sun allows for it but can't be directly controlled.\n",
    "- *residential electrical load*: represents energy usage that needs to be covered but can't be controlled.\n",
    "- *grid connection*: allows you to buy or sell energy to the grid, can't be controlled directly. All energy needs of the system must be satisfied and energy will be bought automatically accordingly. Similarly, excess energy is automatically sold.\n",
    "\n",
    "The diagram below illustrates the setup of the environment.\n",
    "\n",
    "<img src=\"https://github.com/rdnfn/bauwerk/raw/bc85779963d6351ca31d7b705669933b699b7551/docs/assets/bauwerk_solarbatteryenv_diagram.png\" width=\"600px\"/>\n",
    "\n",
    "The code snippet below show how to create an `SolarBatteryHouse` environment"
   ]
  },
  {
   "cell_type": "code",
   "execution_count": null,
   "metadata": {},
   "outputs": [],
   "source": [
    "import bauwerk\n",
    "import gym\n",
    "\n",
    "env = gym.make(\"bauwerk/SolarBatteryHouse-v0\")"
   ]
  },
  {
   "cell_type": "markdown",
   "metadata": {},
   "source": [
    "## Action and Observation Spaces\n",
    "\n",
    "The action and observation spaces can inspected as shown below.\n",
    "\n",
    "The action space simply consists of a single float number between -1.0 and 1.0."
   ]
  },
  {
   "cell_type": "code",
   "execution_count": 2,
   "metadata": {},
   "outputs": [
    {
     "data": {
      "text/plain": [
       "Box([-1.], [1.], (1,), float32)"
      ]
     },
     "execution_count": 2,
     "metadata": {},
     "output_type": "execute_result"
    }
   ],
   "source": [
    "env.action_space"
   ]
  },
  {
   "cell_type": "markdown",
   "metadata": {},
   "source": [
    "The observation space consists of a dictionary with the latest battery content (`battery_cont`), load (`load`), photovoltaic generation (`pv_gen`) and the current time step (`time_step`)."
   ]
  },
  {
   "cell_type": "code",
   "execution_count": 7,
   "metadata": {},
   "outputs": [
    {
     "data": {
      "text/plain": [
       "{'battery_cont': Box([0.], [10.], (1,), float32),\n",
       " 'load': Box([0.], [3.403e+38], (1,), float32),\n",
       " 'pv_gen': Box([0.], [3.403e+38], (1,), float32),\n",
       " 'time_step': Discrete(25)}"
      ]
     },
     "execution_count": 7,
     "metadata": {},
     "output_type": "execute_result"
    }
   ],
   "source": [
    "dict(env.observation_space.items())"
   ]
  },
  {
   "cell_type": "markdown",
   "metadata": {},
   "source": []
  }
 ],
 "metadata": {
  "kernelspec": {
   "display_name": "Python 3.9.12 ('base')",
   "language": "python",
   "name": "python3"
  },
  "language_info": {
   "codemirror_mode": {
    "name": "ipython",
    "version": 3
   },
   "file_extension": ".py",
   "mimetype": "text/x-python",
   "name": "python",
   "nbconvert_exporter": "python",
   "pygments_lexer": "ipython3",
   "version": "3.9.12"
  },
  "orig_nbformat": 4,
  "vscode": {
   "interpreter": {
    "hash": "d4d1e4263499bec80672ea0156c357c1ee493ec2b1c70f0acce89fc37c4a6abe"
   }
  }
 },
 "nbformat": 4,
 "nbformat_minor": 2
}
