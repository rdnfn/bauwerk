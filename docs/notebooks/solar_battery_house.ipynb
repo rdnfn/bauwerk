{
 "cells": [
  {
   "cell_type": "markdown",
   "metadata": {},
   "source": [
    "# SolarBatteryHouse\n",
    "\n",
    "This is the main environment provided by Bauwerk. The environment consists of a single home with the following electrical components:\n",
    "\n",
    "- **Battery**: *can be controlled* by setting battery (dis)charging rate.\n",
    "- **Solar photovoltaic installation**: provides energy when the sun allows for it but can't be directly controlled.\n",
    "- **Residential electrical load**: represents energy usage that needs to be covered but can't be controlled.\n",
    "- **Grid connection**: allows to buy or sell energy to the grid, can't be controlled directly. All energy needs of the system must be satisfied and energy will be bought automatically accordingly. Similarly, excess energy is automatically sold.\n",
    "\n",
    "The diagram below illustrates the setup of the environment.\n",
    "\n",
    "<img src=\"https://github.com/rdnfn/bauwerk/raw/bc85779963d6351ca31d7b705669933b699b7551/docs/assets/bauwerk_solarbatteryenv_diagram.png\" width=\"600px\"/>\n",
    "\n",
    "## Creating environment\n",
    "\n",
    "The code snippet below shows how to create an `SolarBatteryHouse` environment"
   ]
  },
  {
   "cell_type": "code",
   "execution_count": 1,
   "metadata": {},
   "outputs": [
    {
     "name": "stderr",
     "output_type": "stream",
     "text": [
      "/opt/conda/lib/python3.9/site-packages/scipy/__init__.py:146: UserWarning: A NumPy version >=1.16.5 and <1.23.0 is required for this version of SciPy (detected version 1.23.2\n",
      "  warnings.warn(f\"A NumPy version >={np_minversion} and <{np_maxversion}\"\n"
     ]
    }
   ],
   "source": [
    "import bauwerk\n",
    "import gym\n",
    "\n",
    "env = gym.make(\"bauwerk/SolarBatteryHouse-v0\")"
   ]
  },
  {
   "cell_type": "markdown",
   "metadata": {},
   "source": [
    "## Action and Observation Spaces\n",
    "\n",
    "The action and observation spaces can inspected as shown below.\n",
    "\n",
    "The action space simply consists of a single float number between -1.0 and 1.0."
   ]
  },
  {
   "cell_type": "code",
   "execution_count": 2,
   "metadata": {},
   "outputs": [
    {
     "data": {
      "text/plain": [
       "Box([-1.], [1.], (1,), float32)"
      ]
     },
     "execution_count": 2,
     "metadata": {},
     "output_type": "execute_result"
    }
   ],
   "source": [
    "env.action_space"
   ]
  },
  {
   "cell_type": "markdown",
   "metadata": {},
   "source": [
    "The observation space consists of a dictionary with the latest battery content (`battery_cont`), load (`load`), photovoltaic generation (`pv_gen`) and the current time step (`time_step`)."
   ]
  },
  {
   "cell_type": "code",
   "execution_count": 3,
   "metadata": {},
   "outputs": [
    {
     "data": {
      "text/plain": [
       "{'battery_cont': Box([0.], [10.], (1,), float32),\n",
       " 'load': Box([0.], [3.403e+38], (1,), float32),\n",
       " 'pv_gen': Box([0.], [3.403e+38], (1,), float32),\n",
       " 'time_step': Discrete(25)}"
      ]
     },
     "execution_count": 3,
     "metadata": {},
     "output_type": "execute_result"
    }
   ],
   "source": [
    "dict(env.observation_space.items())"
   ]
  },
  {
   "cell_type": "markdown",
   "metadata": {},
   "source": [
    "## Optimal control\n",
    "\n",
    "Bauwerk supports the computation of the optimal control of `SolarBatteyHouse` environments. "
   ]
  },
  {
   "cell_type": "code",
   "execution_count": 5,
   "metadata": {},
   "outputs": [
    {
     "data": {
      "text/plain": [
       "array([ 0.   , -0.   ,  0.022, -0.007, -0.   ,  0.162,  0.166,  0.256,\n",
       "        0.555,  0.638,  0.558,  0.509,  0.324,  0.134, -0.015, -0.088,\n",
       "       -0.094, -0.325, -0.298, -0.557, -0.57 , -0.593, -0.259, -0.16 ])"
      ]
     },
     "execution_count": 5,
     "metadata": {},
     "output_type": "execute_result"
    }
   ],
   "source": [
    "optimal_actions = bauwerk.solve(env)\n",
    "optimal_actions"
   ]
  },
  {
   "cell_type": "markdown",
   "metadata": {},
   "source": [
    "## Mathematical problem definition\n",
    "\n",
    "Coming soon."
   ]
  },
  {
   "cell_type": "markdown",
   "metadata": {},
   "source": []
  }
 ],
 "metadata": {
  "kernelspec": {
   "display_name": "Python 3.9.12 ('base')",
   "language": "python",
   "name": "python3"
  },
  "language_info": {
   "codemirror_mode": {
    "name": "ipython",
    "version": 3
   },
   "file_extension": ".py",
   "mimetype": "text/x-python",
   "name": "python",
   "nbconvert_exporter": "python",
   "pygments_lexer": "ipython3",
   "version": "3.9.12"
  },
  "orig_nbformat": 4,
  "vscode": {
   "interpreter": {
    "hash": "d4d1e4263499bec80672ea0156c357c1ee493ec2b1c70f0acce89fc37c4a6abe"
   }
  }
 },
 "nbformat": 4,
 "nbformat_minor": 2
}
