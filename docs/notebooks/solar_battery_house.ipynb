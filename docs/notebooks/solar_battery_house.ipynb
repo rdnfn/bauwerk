{
 "cells": [
  {
   "cell_type": "markdown",
   "metadata": {},
   "source": [
    "# SolarBatteryHouse\n",
    "\n",
    "The main environment provided by Bauwerk is the `SolarBatteryHouse` environment. This environment consists of a single home with:\n",
    "\n",
    "- *battery*: can be controlled in by setting battery (dis)charging rate.\n",
    "- *solar photovoltaic installation*: provides you energy when the sun allows for it but can't be directly controlled.\n",
    "- *residential electrical load*: represents energy usage that needs to be covered but can't be controlled.\n",
    "- *grid connection*: allows you to buy or sell energy to the grid.\n",
    "\n",
    "The diagram below illustrates the setup of the environment.\n",
    "\n",
    "<img src=\"https://github.com/rdnfn/bauwerk/raw/bc85779963d6351ca31d7b705669933b699b7551/docs/assets/bauwerk_solarbatteryenv_diagram.png\" width=600/>"
   ]
  },
  {
   "cell_type": "code",
   "execution_count": null,
   "metadata": {},
   "outputs": [],
   "source": [
    "import bauwerk\n",
    "import gym\n",
    "\n",
    "env = gym.make(\"bauwerk/SolarBatteryHouse-v0\")\n"
   ]
  },
  {
   "cell_type": "markdown",
   "metadata": {},
   "source": []
  }
 ],
 "metadata": {
  "kernelspec": {
   "display_name": "Python 3.9.12 ('base')",
   "language": "python",
   "name": "python3"
  },
  "language_info": {
   "name": "python",
   "version": "3.9.12"
  },
  "orig_nbformat": 4,
  "vscode": {
   "interpreter": {
    "hash": "d4d1e4263499bec80672ea0156c357c1ee493ec2b1c70f0acce89fc37c4a6abe"
   }
  }
 },
 "nbformat": 4,
 "nbformat_minor": 2
}
