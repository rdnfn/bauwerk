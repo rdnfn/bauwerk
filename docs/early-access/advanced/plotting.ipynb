{
    "cells": [
        {
            "cell_type": "raw",
            "metadata": {
                "raw_mimetype": "text/restructuredtext"
            },
            "source": [
                "========\n",
                "Plotting\n",
                "========\n",
                "\n",
                "Bauwerk provides custom plotting functionality via the :class:`bauwerk.utils.plotting.EnvPlotter` class. This enables the plotting of agent trajectories. An example of using this functionality is given below:"
            ]
        },
        {
            "cell_type": "code",
            "execution_count": null,
            "metadata": {},
            "outputs": [],
            "source": [
                "import bauwerk\n",
                "import bauwerk.utils.plotting\n",
                "import gym\n",
                "import matplotlib.pyplot as plt\n",
                "\n",
                "env = gym.make(\"bauwerk/House-v0\")\n",
                "initial_obs = env.reset() # assumes OpenAI Gym v0.21\n",
                "plotter = bauwerk.utils.plotting.EnvPlotter(\n",
                "    initial_obs, env, visible_h=24\n",
                ")\n",
                "for _ in range(24):\n",
                "    action = env.action_space.sample()\n",
                "    step_return = env.step(action)\n",
                "    plotter.add_step_data(action=action, step_return=step_return)\n",
                "\n",
                "plotter.update_figure()\n",
                "plt.show()"
            ]
        },
        {
            "cell_type": "raw",
            "metadata": {
                "raw_mimetype": "text/restructuredtext"
            },
            "source": [
                "Detailed plotting API\n",
                "---------------------\n",
                "\n",
                ".. autoclass:: bauwerk.utils.plotting.EnvPlotter\n",
                "    :members:"
            ]
        }
    ],
    "metadata": {
        "kernelspec": {
            "display_name": "Python 3.9.12 ('base')",
            "language": "python",
            "name": "python3"
        },
        "language_info": {
            "codemirror_mode": {
                "name": "ipython",
                "version": 3
            },
            "file_extension": ".py",
            "mimetype": "text/x-python",
            "name": "python",
            "nbconvert_exporter": "python",
            "pygments_lexer": "ipython3",
            "version": "3.9.12"
        },
        "orig_nbformat": 4,
        "vscode": {
            "interpreter": {
                "hash": "d4d1e4263499bec80672ea0156c357c1ee493ec2b1c70f0acce89fc37c4a6abe"
            }
        }
    },
    "nbformat": 4,
    "nbformat_minor": 2
}
