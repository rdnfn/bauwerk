{
    "cells": [
        {
            "cell_type": "raw",
            "metadata": {
                "raw_mimetype": "text/restructuredtext"
            },
            "source": [
                "========\n",
                "Plotting\n",
                "========\n",
                "\n",
                "Bauwerk provides plotting as part of the environment."
            ]
        },
        {
            "cell_type": "code",
            "execution_count": null,
            "metadata": {},
            "outputs": [],
            "source": [
                "import bauwerk\n",
                "import bauwerk.utils.plotting\n",
                "import gym\n",
                "import matplotlib.pyplot as plt\n",
                "\n",
                "# add render_mode to config to enable plotting\n",
                "env = gym.make(\"bauwerk/House-v0\", cfg={\"render_mode\":\"rgb_array\"})\n",
                "initial_obs = env.reset()\n",
                "for _ in range(24):\n",
                "    action = env.action_space.sample()\n",
                "    env.step(action)\n",
                "\n",
                "env.render()\n",
                "env.plotter.fig"
            ]
        },
        {
            "cell_type": "raw",
            "metadata": {
                "raw_mimetype": "text/restructuredtext"
            },
            "source": [
                "Detailed plotting API\n",
                "---------------------\n",
                "\n",
                "Below is the detailed API of the plotter class underlying the env's plotting. This class may be useful for more custom plotting use-cases.\n",
                "\n",
                ".. autoclass:: bauwerk.utils.plotting.EnvPlotter\n",
                "    :members:"
            ]
        }
    ],
    "metadata": {
        "kernelspec": {
            "display_name": "bauwerk-py37",
            "language": "python",
            "name": "python3"
        },
        "language_info": {
            "codemirror_mode": {
                "name": "ipython",
                "version": 3
            },
            "file_extension": ".py",
            "mimetype": "text/x-python",
            "name": "python",
            "nbconvert_exporter": "python",
            "pygments_lexer": "ipython3",
            "version": "3.7.16"
        },
        "orig_nbformat": 4,
        "vscode": {
            "interpreter": {
                "hash": "950ce0d25fe021c3fd60e44a25d15ee82bf421c3bc94a67bcaa26a27a8ea3120"
            }
        }
    },
    "nbformat": 4,
    "nbformat_minor": 2
}
