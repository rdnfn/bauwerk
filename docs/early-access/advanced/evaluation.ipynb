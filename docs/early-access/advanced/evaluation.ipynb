{
 "cells": [
  {
   "cell_type": "markdown",
   "metadata": {},
   "source": [
    "## Evaluation\n",
    "\n",
    "### Individual Buildings\n",
    "\n",
    "In order to evaluate the performance of a policy $\\pi$ on a Bauwerk building $b$, we consider the *expected return* when using policy $\\pi$ to operate building $b$,\n",
    "$$\n",
    "    \\mathbb{E}_{\\pi}[\\sum_{t=0}^{T}\\gamma_b^t R_b(s_t, a_t)],\n",
    "$$\n",
    "where $R_b$ is the reward function and $\\gamma_b$ is the discount factor of building $b$'s *partially observable Markov decision process* (POMDP), and $s_t$, $a_t$ are random variables of states and actions visited under policy $\\pi$. This value is basically the expected cost of using policy $\\pi$ as a controller in building $b$.\n",
    "\n",
    "Below we compute this expected return for a random policy."
   ]
  },
  {
   "cell_type": "code",
   "execution_count": 2,
   "metadata": {},
   "outputs": [
    {
     "name": "stdout",
     "output_type": "stream",
     "text": [
      "Expected reward with random policy (estimated using 10 samples): -8549.335485292095\n"
     ]
    }
   ],
   "source": [
    "import gym\n",
    "import bauwerk\n",
    "\n",
    "NUM_SAMPLES = 10\n",
    "\n",
    "def estimate_exp_rew(num_samples, len_episode ):\n",
    "    env = gym.make(\"bauwerk/House-v0\")\n",
    "    env.reset()\n",
    "    cum_rewards = []\n",
    "\n",
    "    for i in range(num_samples):\n",
    "        cum_rewards.append(0)\n",
    "        while range(10**6):\n",
    "            obs, reward, terminated, truncated, info = env.step(env.action_space.sample())\n",
    "            cum_rewards[i] += reward\n",
    "            if terminated or truncated:\n",
    "                env.reset()\n",
    "                break\n",
    "\n",
    "    overall_reward = sum(cum_rewards)/num_samples\n",
    "    return overall_reward\n",
    "\n",
    "overall_reward = estimate_exp_rew(num_samples=NUM_SAMPLES)\n",
    "print(f\"Expected reward with random policy (estimated using {NUM_SAMPLES} samples): {overall_reward}\")"
   ]
  },
  {
   "cell_type": "markdown",
   "metadata": {},
   "source": [
    "Next we quickly look at how the number of samples affects the estimate."
   ]
  },
  {
   "cell_type": "code",
   "execution_count": 10,
   "metadata": {},
   "outputs": [],
   "source": [
    "import matplotlib.pyplot as plt\n",
    "import numpy as np\n",
    "\n",
    "nums_samples = np.arange(1,21)\n",
    "estimates = []\n",
    "\n",
    "\n",
    "\n",
    "for num_samples in nums_samples:\n",
    "    estimates.append(estimate_exp_rew(num_samples=num_samples))"
   ]
  },
  {
   "cell_type": "code",
   "execution_count": 11,
   "metadata": {},
   "outputs": [
    {
     "data": {
      "text/plain": [
       "[<matplotlib.lines.Line2D at 0xffff627e9820>]"
      ]
     },
     "execution_count": 11,
     "metadata": {},
     "output_type": "execute_result"
    },
    {
     "data": {
      "image/png": "[encoded data removed]",
      "text/plain": [
       "<Figure size 432x288 with 1 Axes>"
      ]
     },
     "metadata": {
      "needs_background": "light"
     },
     "output_type": "display_data"
    }
   ],
   "source": [
    "plt.plot(nums_samples, estimates)"
   ]
  },
  {
   "cell_type": "markdown",
   "metadata": {},
   "source": [
    "Instead of using "
   ]
  },
  {
   "cell_type": "code",
   "execution_count": 2,
   "metadata": {},
   "outputs": [
    {
     "name": "stderr",
     "output_type": "stream",
     "text": [
      "/opt/conda/lib/python3.9/site-packages/scipy/__init__.py:146: UserWarning: A NumPy version >=1.16.5 and <1.23.0 is required for this version of SciPy (detected version 1.23.4\n",
      "  warnings.warn(f\"A NumPy version >={np_minversion} and <{np_maxversion}\"\n"
     ]
    }
   ],
   "source": [
    "import gym\n",
    "import bauwerk"
   ]
  },
  {
   "cell_type": "code",
   "execution_count": 13,
   "metadata": {},
   "outputs": [
    {
     "name": "stdout",
     "output_type": "stream",
     "text": [
      "env resetted 8758\n",
      "env resetted 17517\n",
      "env resetted 26276\n",
      "env resetted 35035\n",
      "env resetted 43794\n",
      "env resetted 52553\n",
      "env resetted 61312\n",
      "env resetted 70071\n",
      "env resetted 78830\n",
      "env resetted 87589\n"
     ]
    }
   ],
   "source": [
    "# Timing env simulation\n",
    "%timeit\n",
    "\n",
    "def estimate_exp_rew(num_steps):\n",
    "    env = gym.make(\"bauwerk/House-v0\")\n",
    "    env.reset()\n",
    "    for i in range(num_steps):\n",
    "        obs, reward, terminated, truncated, info = env.step(env.action_space.sample())\n",
    "        if terminated or truncated:\n",
    "            env.reset()\n",
    "            print(f\"env resetted {i}\")\n",
    "\n",
    "estimate_exp_rew(num_steps=24*365)"
   ]
  },
  {
   "cell_type": "markdown",
   "metadata": {},
   "source": []
  },
  {
   "cell_type": "markdown",
   "metadata": {},
   "source": []
  }
 ],
 "metadata": {
  "kernelspec": {
   "display_name": "Python 3.9.12 ('base')",
   "language": "python",
   "name": "python3"
  },
  "language_info": {
   "codemirror_mode": {
    "name": "ipython",
    "version": 3
   },
   "file_extension": ".py",
   "mimetype": "text/x-python",
   "name": "python",
   "nbconvert_exporter": "python",
   "pygments_lexer": "ipython3",
   "version": "3.9.12"
  },
  "orig_nbformat": 4,
  "vscode": {
   "interpreter": {
    "hash": "d4d1e4263499bec80672ea0156c357c1ee493ec2b1c70f0acce89fc37c4a6abe"
   }
  }
 },
 "nbformat": 4,
 "nbformat_minor": 2
}
