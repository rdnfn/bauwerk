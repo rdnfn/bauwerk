{
 "cells": [
  {
   "cell_type": "markdown",
   "metadata": {},
   "source": [
    "## Evaluation\n",
    "\n",
    "### Individual Buildings\n",
    "\n",
    "In order to evaluate the performance of a policy $\\pi$ on a Bauwerk building $b$, we consider the *expected return* when using policy $\\pi$ to operate building $b$,\n",
    "$$\n",
    "    \\mathbb{E}_{\\pi}[\\sum_{t=0}^{T}\\gamma_b^t R_b(s_t, a_t)],\n",
    "$$\n",
    "where $R_b$ is the reward function and $\\gamma_b$ is the discount factor of building $b$'s *partially observable Markov decision process* (POMDP), and $s_t$, $a_t$ are random variables of states and actions visited under policy $\\pi$. This value is basically the expected cost of using policy $\\pi$ as a controller in building $b$.\n",
    "\n",
    "Below we compute this expected return for a random policy."
   ]
  },
  {
   "cell_type": "code",
   "execution_count": 7,
   "metadata": {},
   "outputs": [
    {
     "name": "stdout",
     "output_type": "stream",
     "text": [
      "Expected reward with random policy (estimated using 10 samples): -8562.73419946369\n"
     ]
    }
   ],
   "source": [
    "import gym\n",
    "import bauwerk\n",
    "\n",
    "NUM_SAMPLES = 10\n",
    "\n",
    "env = gym.make(\"bauwerk/House-v0\")\n",
    "env.reset()\n",
    "cum_rewards = []\n",
    "\n",
    "for i in range(NUM_SAMPLES):\n",
    "    cum_rewards.append(0)\n",
    "    while range(10**6):\n",
    "        obs, reward, terminated, truncated, info = env.step(env.action_space.sample())\n",
    "        cum_rewards[i] += reward\n",
    "        if terminated or truncated:\n",
    "            env.reset()\n",
    "            break\n",
    "\n",
    "overall_reward = sum(cum_rewards)/NUM_SAMPLES\n",
    "print(f\"Expected reward with random policy (estimated using {NUM_SAMPLES} samples): {overall_reward}\")"
   ]
  },
  {
   "cell_type": "markdown",
   "metadata": {},
   "source": []
  }
 ],
 "metadata": {
  "kernelspec": {
   "display_name": "Python 3.9.12 ('base')",
   "language": "python",
   "name": "python3"
  },
  "language_info": {
   "codemirror_mode": {
    "name": "ipython",
    "version": 3
   },
   "file_extension": ".py",
   "mimetype": "text/x-python",
   "name": "python",
   "nbconvert_exporter": "python",
   "pygments_lexer": "ipython3",
   "version": "3.9.12"
  },
  "orig_nbformat": 4,
  "vscode": {
   "interpreter": {
    "hash": "d4d1e4263499bec80672ea0156c357c1ee493ec2b1c70f0acce89fc37c4a6abe"
   }
  }
 },
 "nbformat": 4,
 "nbformat_minor": 2
}
